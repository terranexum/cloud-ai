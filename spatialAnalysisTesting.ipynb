{
 "cells": [
  {
   "cell_type": "markdown",
   "metadata": {},
   "source": [
    "# Testing spatial analysis tools and OSMnx\n",
    "\n",
    "In this notebook, I learned how to access, graph, and use OSMnx. "
   ]
  },
  {
   "cell_type": "code",
   "execution_count": null,
   "metadata": {},
   "outputs": [],
   "source": [
    "#On the OSMnx website, it says that pip is not supported for installation, but this method works to install OSMnx. \n",
    "%pip install osmnx "
   ]
  },
  {
   "cell_type": "code",
   "execution_count": null,
   "metadata": {},
   "outputs": [],
   "source": [
    "import osmnx as ox\n",
    "\n",
    "#Information about power plants, minor power lines, major power lines, and powper cables are imported from OpenStreetMap using OSMnx\n",
    "gdf = ox.features.features_from_place(\"Colorado, USA\",tags={'power':['plant', 'minor_line','line','cable']}, which_result=None, buffer_dist=None)\n",
    "\n",
    "#This is an example from the OSMnx documentation - changing the information with network_type will change the information displayed about Piedmont California\n",
    "'''G = ox.graph_from_place(\"Piedmont, California, USA\", network_type=\"\")\n",
    "fig, ax = ox.plot_graph(G)'''"
   ]
  },
  {
   "cell_type": "code",
   "execution_count": null,
   "metadata": {},
   "outputs": [],
   "source": [
    "import geopandas as gp\n",
    "import pandas as pd\n",
    "import contextily as cx\n",
    "\n",
    "#Graphs the OpenStreetMap data from the last cell - and uses different colors depending on the type of information displayed. (ex. Power plants will be a different color than power lines)\n",
    "graph = gdf.plot(column = 'power', legend=True, cmap='Dark2',figsize=(10, 10))\n",
    "#Adds a streetmap of Colorado under the graph above\n",
    "cx.add_basemap(graph, crs=gdf.crs, source=cx.providers.CartoDB.Positron)\n",
    "\n",
    "#Creates a table with 20 rows from the OpenStreetMap data\n",
    "df1 = pd.DataFrame(gdf)\n",
    "df1.head(n=20)"
   ]
  },
  {
   "cell_type": "code",
   "execution_count": null,
   "metadata": {},
   "outputs": [],
   "source": [
    "#Imports information from OpenStreetMap only about power plants and creats a table with 15 rows with that data. \n",
    "powerLineData = ox.features.features_from_place(\"Colorado, USA\",tags={'power':'plant'}, which_result=None, buffer_dist=None)\n",
    "df2 = pd.DataFrame(powerLineData)\n",
    "df2.head(n=15)"
   ]
  }
 ],
 "metadata": {
  "kernelspec": {
   "display_name": "Python 3",
   "language": "python",
   "name": "python3"
  },
  "language_info": {
   "codemirror_mode": {
    "name": "ipython",
    "version": 3
   },
   "file_extension": ".py",
   "mimetype": "text/x-python",
   "name": "python",
   "nbconvert_exporter": "python",
   "pygments_lexer": "ipython3",
   "version": "3.9.6"
  }
 },
 "nbformat": 4,
 "nbformat_minor": 2
}
