{
 "cells": [
  {
   "cell_type": "markdown",
   "metadata": {},
   "source": [
    "# Learning how to use Geopandas and Plotly\n",
    "\n",
    "In this notebook, I experimented with geopandas and plotly to learn how to use each. "
   ]
  },
  {
   "cell_type": "code",
   "execution_count": null,
   "metadata": {},
   "outputs": [],
   "source": [
    "#Used to install pysal \n",
    "pip install pysal"
   ]
  },
  {
   "cell_type": "code",
   "execution_count": null,
   "metadata": {},
   "outputs": [],
   "source": [
    "from dash import Dash, html, dash_table, dcc, callback, Output, Input\n",
    "import plotly.express as px\n",
    "import pandas as pd\n",
    "import geopandas as gp\n",
    "import shapely.geometry\n",
    "import json\n",
    "\n",
    "df = None\n",
    "\n",
    "#Creates a new Dash app using Plotly inside the notebook\n",
    "app = Dash()\n",
    "\n",
    "#Creates the app layout with a title (eGRID Data), a Radio button selection, and an empty graph.\n",
    "app.layout = [\n",
    "    html.Div(children='eGRID Data'),\n",
    "    dcc.RadioItems(options=[\n",
    "        {'label': html.Div(['Balancing Authority'], style={'color': 'White'}), 'value': 'BA22'}, \n",
    "        {'label': html.Div(['State'], style={'color': 'White'}), 'value': 'ST22'}], \n",
    "        value='BA22', id='controls-and-radio-item'),\n",
    "    dcc.Graph(figure={}, id ='controls-and-graph')\n",
    "]\n",
    "\n",
    "#Sets up the input and output methods for changing the graph's information\n",
    "@callback(\n",
    "    Output(component_id='controls-and-graph', component_property='figure'),\n",
    "    Input(component_id='controls-and-radio-item', component_property='value')\n",
    ")\n",
    "\n",
    "#Updates the graph depending on which button from the Radio section is selected. The information selected in the Radio dial will be displayed in a bar graph. \n",
    "def update_graph(col_chosen):\n",
    "    df = pd.read_excel('Data/egrid2022_data.xlsx', sheet_name=col_chosen)\n",
    "    column = None\n",
    "    xAxis = None\n",
    "    chartHeight = None\n",
    "    if col_chosen == 'BA22' :\n",
    "        column = \"BA annual CO2 equivalent total output emission rate (lb/MWh)\"\n",
    "        xAxis = \"Balancing Authority Name\"\n",
    "        chartHeight = 1000\n",
    "    elif col_chosen == 'ST22' :\n",
    "        column = \"State annual CO2 equivalent total output emission rate (lb/MWh)\"\n",
    "        xAxis = \"State abbreviation\"\n",
    "        chartHeight = 500\n",
    "    fig = px.histogram(df, x=xAxis, y=column, \n",
    "                                  title='Greenhouse Gas emission rate',\n",
    "                                  height=chartHeight,\n",
    "                                  labels={'Balancing Authority Name':'Balancing Authority Name', 'BA annual CO2 equivalent total output emission rate (lb/MWh)':'Greenhouse Gas emission rate (lb/MWh)', 'State annual CO2 equivalent total output emission rate (lb/MWh)': 'Greenhouse Gas emission rate (lb/MWh)'},\n",
    "                                  histfunc='avg'\n",
    "                                  )\n",
    "    return fig\n",
    "\n",
    "#Need to run the app - do not change! \n",
    "if __name__ == '__main__':\n",
    "    app.run(debug=True)"
   ]
  },
  {
   "cell_type": "code",
   "execution_count": null,
   "metadata": {},
   "outputs": [],
   "source": [
    "from dash import Dash, html, dash_table, dcc, callback, Output, Input\n",
    "import plotly.express as px\n",
    "import pandas as pd\n",
    "import geopandas as gp\n",
    "import shapely.geometry\n",
    "import json\n",
    "from urllib.request import urlopen\n",
    "\n",
    "#Importing eGRID data to attempt to create a choropleth map \n",
    "eGridSpace = gp.read_file(\"Data/egrid2022_subregions_shapefile.zip\")\n",
    "eGridSpace.to_file('Data/egrid2022_subregions_shapefile.geojson', driver='GeoJSON')\n",
    "\n",
    "df = pd.read_excel('Data/egrid2022_data.xlsx', sheet_name='SRL22', dtype={\"eGRID subregion acronym\": str})\n"
   ]
  },
  {
   "cell_type": "code",
   "execution_count": null,
   "metadata": {},
   "outputs": [],
   "source": [
    "#Attempted to create a choropleth map - does not work yet!\n",
    "fig = px.choropleth(df, geojson = eGridSpace, locations = \"eGRID subregion acronym\", color = \"eGRID subregion annual CO2 equivalent total output emission rate (lb/MWh)\",\n",
    "                           color_continuous_scale=\"Viridis\")\n",
    "fig.show()"
   ]
  },
  {
   "cell_type": "code",
   "execution_count": null,
   "metadata": {},
   "outputs": [],
   "source": [
    "import pandas as pd\n",
    "import numpy as np\n",
    "import geopandas as gp\n",
    "\n",
    "#Plots which NERC Coordinator is responsible for which part of the US using Geopandas\n",
    "nercCoordinators = gp.read_file(\"Data/NERC_Reliability_Coordinators.shp\")\n",
    "\n",
    "nercCoordinators.plot(column = \"NAME\", \n",
    "               cmap = \"gist_ncar\", \n",
    "               legend = True, \n",
    "               legend_kwds={\"loc\": \"center left\", \"bbox_to_anchor\": (1, 0.5)},\n",
    "              ).set_axis_off()\n",
    "\n",
    "#Plots the peak load of each energy planning area in the US using Geopandas \n",
    "planningAreas = gp.read_file(\"Data/Planning_Areas.shp\")\n",
    "\n",
    "planningAreas.plot(column = \"PEAK_LOAD\",\n",
    "                   cmap = \"Reds\",\n",
    "                   legend = True,\n",
    "                   legend_kwds={'shrink': 0.4, \"label\": \"Peak Load\"}\n",
    "                  ).set_axis_off()"
   ]
  }
 ],
 "metadata": {
  "kernelspec": {
   "display_name": "Python 3",
   "language": "python",
   "name": "python3"
  },
  "language_info": {
   "codemirror_mode": {
    "name": "ipython",
    "version": 3
   },
   "file_extension": ".py",
   "mimetype": "text/x-python",
   "name": "python",
   "nbconvert_exporter": "python",
   "pygments_lexer": "ipython3",
   "version": "3.9.6"
  }
 },
 "nbformat": 4,
 "nbformat_minor": 2
}
