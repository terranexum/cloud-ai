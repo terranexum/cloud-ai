{
 "cells": [
  {
   "cell_type": "markdown",
   "metadata": {},
   "source": [
    "# Working with overlaying multiple sets of data\n",
    "\n",
    "In this notebook,  I worked with overlaying data from EPA Flight data detailing power plant locations across Colorado onto OpenStreetMap that detailed the power grid (specifically minor power lines, major power lines, and power cables). \n",
    "All of the data here uses geographic coordinate systems - so there may be some inaccuracies, but they should occur at a very small scale. "
   ]
  },
  {
   "cell_type": "code",
   "execution_count": null,
   "metadata": {},
   "outputs": [],
   "source": [
    "import geopandas as gp\n",
    "import pandas as pd\n",
    "import contextily as cx\n",
    "import osmnx as ox\n",
    "import matplotlib.pyplot as plt\n",
    "\n",
    "#OSMnx is used to import OpenStreetMap data about the power grid - specifically the locations of minor lines, major lines, and cables. \n",
    "linesData = ox.features.features_from_place(\"Colorado, USA\",tags={'power':[ 'minor_line','line','cable']}, which_result=None, buffer_dist=None) "
   ]
  },
  {
   "cell_type": "code",
   "execution_count": null,
   "metadata": {},
   "outputs": [],
   "source": [
    "#EPA Flight data is read from the Data folder \n",
    "df = pd.read_csv('Data/EpaFlightFinal.csv')\n",
    "df.head()\n",
    "#The EPA Flight data is converted into a Geodataframe using geopandas so that it can be graphed. The x and y coordinates are set to the LONGITUDE and LATITUDE columns of the data, respectively.\n",
    "#The same crs sytem from the OpenStreetMap data is used throughout\n",
    "gdf = gp.GeoDataFrame(\n",
    "    df, geometry=gp.points_from_xy(df.LONGITUDE, df.LATITUDE), crs=linesData.crs\n",
    ")\n",
    "#The EPA flight data is plotted using geopandas - darker purple colors represents higher CO2 emissions \n",
    "gdf.plot(column=\"GHG QUANTITY (METRIC TONS CO2e)\", legend=True, cmap = \"RdPu\")"
   ]
  },
  {
   "cell_type": "code",
   "execution_count": null,
   "metadata": {},
   "outputs": [],
   "source": [
    "#A buffer of about 2.3 miles is added around the OpenStreetMap data (this is done through the 0.043 - one longitude degree * 0.043 is roughly equal to 2.3 miles). \n",
    "#https://www.omnicalculator.com/other/latitude-longitude-distance used to calculate distance\n",
    "linesBuffers = linesData.buffer(0.043, resolution=16, cap_style='round', join_style='round', mitre_limit=5.0, single_sided=False)\n",
    "#The buffered data is graphed with a transparency of 0.2\n",
    "linesBuffers.plot(alpha=0.2)\n",
    "#The linesBuffers data was in a geoseries, so this line converts it into a Geodataframe which is needed to overlay the data. \n",
    "linesBuffersGDF = gp.GeoDataFrame(linesBuffers, geometry=gp.GeoSeries(linesBuffers))"
   ]
  },
  {
   "cell_type": "code",
   "execution_count": null,
   "metadata": {},
   "outputs": [],
   "source": [
    "import matplotlib\n",
    "#This overlays the EPA Flight data onto the OpenStreetMap buffered data through an intersection, so that only the EPA Flight points that fall inside the buffer zone are returned into doubleData. \n",
    "doubleData = linesBuffersGDF.overlay(gdf, how=\"intersection\", keep_geom_type =False)\n",
    "#The points from DoubleData are plotted on top of the OpenStreetMap lines (which have a transparency of 0.1). Points that are more yellow have higher CO2 emissions, and points that are more red have lower CO2 emissions (logarithmic scale).\n",
    "linesGraph = linesBuffers.plot(alpha=0.1, figsize=(10, 10))\n",
    "finalGraph = doubleData.plot(ax=linesGraph, legend = True, legend_kwds={'shrink': 0.3, 'label':'Metric Tons of CO2 Released'}, figsize=(10, 10), \n",
    "                             column=\"GHG QUANTITY (METRIC TONS CO2e)\", cmap = \"autumn\", norm=matplotlib.colors.LogNorm()\n",
    "                             )\n",
    "#Creates an underlying Colorado street map\n",
    "cx.add_basemap(finalGraph, crs=gdf.crs, source=cx.providers.CartoDB.Positron)\n",
    "finalGraph.set_axis_off()\n"
   ]
  },
  {
   "cell_type": "code",
   "execution_count": null,
   "metadata": {},
   "outputs": [],
   "source": [
    "inGridPlants = pd.DataFrame(doubleData.drop(columns=['geometry', 0]))\n",
    "inGridPlants = inGridPlants.drop_duplicates()\n",
    "inGridEmissions = inGridPlants['GHG QUANTITY (METRIC TONS CO2e)'].sum()\n",
    "print(\"Total emissions inside 2.3 miles of the power grid: (Metric Tons of CO2)\")\n",
    "print(inGridEmissions)\n",
    "\n",
    "\n",
    "totalEmissions = df['GHG QUANTITY (METRIC TONS CO2e)'].sum()\n",
    "print(\"Total Colorado CO2 emissions: (Metric Tons of CO2)\")\n",
    "print(totalEmissions)\n",
    "inGridPlants.head(n=50)\n",
    "\n",
    "outGridEmissions = totalEmissions - inGridEmissions\n",
    "print(\"Total emissions outside of 2.3 miles of the power grid: (Metric Tons of CO2)\")\n",
    "print(outGridEmissions)\n",
    "\n",
    "print(\"Percentage of emissions within 2.3 miles of the power grid: \")\n",
    "print(inGridEmissions/totalEmissions * 100)"
   ]
  },
  {
   "cell_type": "code",
   "execution_count": null,
   "metadata": {},
   "outputs": [],
   "source": [
    "importNational = pd.read_csv('Data/EpaFlightNational.csv')\n",
    "importNational = importNational.reset_index()\n",
    "for index, row in importNational.iterrows():\n",
    "    if ((row['STATE'] == 'VI') or (row['STATE'] == 'GU') or (row['STATE'] == 'PR') or (row['STATE'] == 'AS') or (row['STATE'] == 'MP')):\n",
    "        importNational = importNational.drop(index)\n",
    "nationalEmissions = gp.GeoDataFrame(\n",
    "    importNational, geometry=gp.points_from_xy(importNational.LONGITUDE, importNational.LATITUDE), crs = 'EPSG:4326'\n",
    ")\n",
    "nationalEmissions.plot(column=\"GHG QUANTITY (METRIC TONS CO2e)\", legend=True, cmap = \"autumn\")"
   ]
  },
  {
   "cell_type": "code",
   "execution_count": null,
   "metadata": {},
   "outputs": [],
   "source": [
    "nationalPowerLines = gp.read_file('Data/Electric_Power_Transmission_Lines.geojson')\n",
    "nationalLinesBuffers = nationalPowerLines.buffer(0.043, resolution=16, cap_style='round', join_style='round', mitre_limit=5.0, single_sided=False)\n",
    "nationalLinesBuffers.to_crs('EPSG:4326')\n",
    "nationalBuffersGDF = gp.GeoDataFrame(nationalLinesBuffers, geometry=gp.GeoSeries(nationalLinesBuffers))\n",
    "nationalBuffersGDF.plot()"
   ]
  },
  {
   "cell_type": "code",
   "execution_count": null,
   "metadata": {},
   "outputs": [],
   "source": [
    "import matplotlib\n",
    "overlayNational = nationalBuffersGDF.overlay(nationalEmissions, how=\"symmetric_difference\", keep_geom_type =False)\n",
    "\n",
    "nationalLinesGraph = nationalBuffersGDF.plot(alpha=1, figsize=(20, 20))\n",
    "nationalLinesGraph.set_xlim(-175, -50)\n",
    "finalNationalGraph = overlayNational.plot(ax=nationalLinesGraph, legend = True, legend_kwds={'shrink': 0.3, 'label':'Metric Tons of CO2 Released'}, figsize=(20, 20), \n",
    "                             column=\"GHG QUANTITY (METRIC TONS CO2e)\", cmap = \"autumn\", norm=matplotlib.colors.LogNorm()\n",
    "                             )\n",
    "cx.add_basemap(finalNationalGraph, crs='EPSG:4326', source=cx.providers.CartoDB.Positron)\n",
    "finalNationalGraph.set_axis_off()"
   ]
  },
  {
   "cell_type": "code",
   "execution_count": null,
   "metadata": {},
   "outputs": [],
   "source": [
    "nationalInGridSources = pd.DataFrame(overlayNational.drop(columns=['geometry', 0]))\n",
    "nationalInGridSources = nationalInGridSources.drop_duplicates()\n",
    "inGridEmissions = nationalInGridSources['GHG QUANTITY (METRIC TONS CO2e)'].sum()\n",
    "print(\"Total emissions inside 2.3 miles of the power grid: (Metric Tons of CO2)\")\n",
    "print(inGridEmissions)\n",
    "\n",
    "totalEmissions = nationalEmissions['GHG QUANTITY (METRIC TONS CO2e)'].sum()\n",
    "print(\"Total national CO2 emissions: (Metric Tons of CO2)\")\n",
    "print(totalEmissions)\n",
    "\n",
    "outGridEmissions = totalEmissions - inGridEmissions\n",
    "print(\"Total emissions outside of 2.3 miles of the power grid: (Metric Tons of CO2)\")\n",
    "print(outGridEmissions)\n",
    "\n",
    "print(\"Percentage of emissions within 2.3 miles of the power grid: \")\n",
    "print(inGridEmissions/totalEmissions * 100)\n",
    "print('\\n')\n",
    "\n",
    "totalEmissionSources = len(nationalEmissions)\n",
    "powerEmissionsInGrid = len(nationalInGridSources)\n",
    "print(\"Total emission sources: \")\n",
    "print(totalEmissionSources)\n",
    "print(\"Total emission sources within 2.3 miles of the grid: \")\n",
    "print(powerEmissionsInGrid)\n",
    "print(\"Percentage of emission sources within 2.3 miles of the grid\")\n",
    "print(powerEmissionsInGrid / totalEmissionSources * 100)\n"
   ]
  },
  {
   "cell_type": "code",
   "execution_count": null,
   "metadata": {},
   "outputs": [],
   "source": [
    "from numpy import log10\n",
    "for index, row in overlayNational.iterrows():\n",
    "    if (row['GHG QUANTITY (METRIC TONS CO2e)'] <= 0):\n",
    "        overlayNational = overlayNational.drop(index)\n",
    "\n",
    "overlayNational['log(Metric Tons CO2)'] = log10(overlayNational['GHG QUANTITY (METRIC TONS CO2e)'])\n",
    "overlayNational.head(n=20)"
   ]
  },
  {
   "cell_type": "code",
   "execution_count": null,
   "metadata": {},
   "outputs": [],
   "source": [
    "#Creates an interactive map showing \n",
    "\n",
    "\n",
    "m = nationalBuffersGDF.explore(tooltip = False, figsize=(10, 10), legend=False)\n",
    "overlayNational.explore(m=m, column='log(Metric Tons CO2)', figsize=(10, 10), cmap = 'autumn', legend=True, tooltip=\"GHG QUANTITY (METRIC TONS CO2e)\")"
   ]
  }
 ],
 "metadata": {
  "kernelspec": {
   "display_name": "Python 3",
   "language": "python",
   "name": "python3"
  },
  "language_info": {
   "codemirror_mode": {
    "name": "ipython",
    "version": 3
   },
   "file_extension": ".py",
   "mimetype": "text/x-python",
   "name": "python",
   "nbconvert_exporter": "python",
   "pygments_lexer": "ipython3",
   "version": "3.9.6"
  }
 },
 "nbformat": 4,
 "nbformat_minor": 2
}
