{
 "cells": [
  {
   "cell_type": "code",
   "execution_count": null,
   "metadata": {},
   "outputs": [],
   "source": [
    "import geopandas as gp\n",
    "import pandas as pd\n",
    "import contextily as cx\n",
    "import osmnx as ox\n",
    "import matplotlib.pyplot as plt"
   ]
  },
  {
   "cell_type": "code",
   "execution_count": null,
   "metadata": {},
   "outputs": [],
   "source": [
    "importNational = pd.read_csv('Data/EpaFlightNational.csv')\n",
    "importNational = importNational.reset_index()\n",
    "for index, row in importNational.iterrows():\n",
    "    if ((row['STATE'] == 'VI') or (row['STATE'] == 'GU') or (row['STATE'] == 'PR') or (row['STATE'] == 'AS') or (row['STATE'] == 'MP')):\n",
    "        importNational = importNational.drop(index)\n",
    "nationalEmissions = gp.GeoDataFrame(\n",
    "    importNational, geometry=gp.points_from_xy(importNational.LONGITUDE, importNational.LATITUDE), crs = 'EPSG:4326'\n",
    ")\n",
    "nationalEmissions.plot(column=\"GHG QUANTITY (METRIC TONS CO2e)\", legend=True, cmap = \"autumn\")"
   ]
  },
  {
   "cell_type": "code",
   "execution_count": null,
   "metadata": {},
   "outputs": [],
   "source": [
    "nationalPowerLines = gp.read_file('Data/Electric_Power_Transmission_Lines.geojson')\n",
    "nationalLinesBuffers = nationalPowerLines.buffer(0.043, resolution=16, cap_style='round', join_style='round', mitre_limit=5.0, single_sided=False)\n",
    "nationalLinesBuffers.to_crs('EPSG:4326')\n",
    "nationalBuffersGDF = gp.GeoDataFrame(nationalLinesBuffers, geometry=gp.GeoSeries(nationalLinesBuffers))\n",
    "nationalBuffersGDF.plot()"
   ]
  },
  {
   "cell_type": "code",
   "execution_count": null,
   "metadata": {},
   "outputs": [],
   "source": [
    "overlayNational = nationalBuffersGDF.overlay(nationalEmissions, how=\"intersection\", keep_geom_type =False)\n",
    "\n",
    "nationalInGridSources = pd.DataFrame(overlayNational.drop(columns=['geometry', 0]))\n",
    "nationalInGridSources = nationalInGridSources.drop_duplicates()\n",
    "\n",
    "stateList = [ 'AL', 'AK', 'AS', 'AZ', 'AR', 'CA', 'CO', 'CT', 'DE', 'DC', 'FM', 'FL', 'GA', 'GU', 'HI', 'ID', 'IL', 'IN', 'IA', \n",
    "             'KS', 'KY', 'LA', 'ME', 'MH', 'MD', 'MA', 'MI', 'MN', 'MS', 'MO', 'MT', 'NE', 'NV', 'NH', 'NJ', 'NM', 'NY', 'NC', \n",
    "             'ND', 'MP', 'OH', 'OK', 'OR', 'PW', 'PA', 'PR', 'RI', 'SC', 'SD', 'TN', 'TX', 'UT', 'VT', 'VI', 'VA', 'WA', 'WV', 'WI', 'WY' ]\n",
    "\n",
    "for i in stateList : \n",
    "    stateInGridSources = nationalInGridSources.query('STATE' == stateList)\n",
    "    stateSources = importNational.query('STATE' == stateList)\n",
    "\n",
    "    totalStateEmissions = stateSources['GHG QUANTITY (METRIC TONS CO2e)'].sum()\n",
    "    stateEmissionsGrid = stateInGridSources['GHG QUANTITY (METRIC TONS CO2e)'].sum()\n",
    "    percentageEmissions = stateEmissionsGrid / totalStateEmissions\n",
    "    \n",
    "    print(i)\n",
    "    print(percentageEmissions)\n",
    "    print(\"\\n\")"
   ]
  }
 ],
 "metadata": {
  "kernelspec": {
   "display_name": "Python 3",
   "language": "python",
   "name": "python3"
  },
  "language_info": {
   "codemirror_mode": {
    "name": "ipython",
    "version": 3
   },
   "file_extension": ".py",
   "mimetype": "text/x-python",
   "name": "python",
   "nbconvert_exporter": "python",
   "pygments_lexer": "ipython3",
   "version": "3.9.6"
  }
 },
 "nbformat": 4,
 "nbformat_minor": 2
}
